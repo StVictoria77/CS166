{
 "cells": [
  {
   "cell_type": "code",
   "execution_count": 1,
   "metadata": {},
   "outputs": [],
   "source": [
    "from pylab import *\n",
    "import networkx as nx\n",
    "import random as rd\n",
    "%matplotlib inline"
   ]
  },
  {
   "cell_type": "code",
   "execution_count": 2,
   "metadata": {},
   "outputs": [],
   "source": [
    "# Model 1: original\n",
    "\n",
    "def original_model():\n",
    "    \n",
    "    def initialize():\n",
    "        global g, time_to_consensus, consensus_reached\n",
    "        time_to_consensus = 0\n",
    "        consensus_reached = False\n",
    "        g = nx.karate_club_graph()\n",
    "        g.pos = nx.spring_layout(g)\n",
    "        for i in g.nodes:\n",
    "            g.nodes[i]['state'] = 1 if random() < .5 else 0\n",
    "\n",
    "    def observe():\n",
    "        global g, time_to_consensus, consensus_reached\n",
    "        cla()\n",
    "        nx.draw(g, vmin = 0, vmax = 1,\n",
    "                node_color = [g.nodes[i]['state'] for i in g.nodes],\n",
    "                pos = g.pos)\n",
    "\n",
    "    def update():\n",
    "        global g, time_to_consensus, consensus_reached\n",
    "        \n",
    "        listener = rd.choice(list(g.nodes))\n",
    "        speaker = rd.choice(list(g.neighbors(listener)))\n",
    "        g.nodes[listener]['state'] = g.nodes[speaker]['state']\n",
    "        \n",
    "    def consensus_check():\n",
    "        global g, time_to_consensus, consensus_reached\n",
    "        \n",
    "        zero_state = 0\n",
    "        for i in g.nodes:\n",
    "            if g.nodes[i]['state'] == 0:\n",
    "                zero_state += 1\n",
    "        if zero_state == 0 or zero_state == len(g.nodes):\n",
    "            consensus_reached = True\n",
    "        else:\n",
    "            time_to_consensus += 1\n",
    "\n",
    "    initialize()\n",
    "    while consensus_reached == False:\n",
    "        update()\n",
    "        consensus_check()\n",
    "    # observe()\n",
    "    \n",
    "    return time_to_consensus"
   ]
  },
  {
   "cell_type": "code",
   "execution_count": 3,
   "metadata": {},
   "outputs": [],
   "source": [
    "# Model 2: reversed\n",
    "\n",
    "def reversed_model():\n",
    "    \n",
    "    def initialize():\n",
    "        global g, time_to_consensus, consensus_reached\n",
    "        time_to_consensus = 0\n",
    "        consensus_reached = False\n",
    "        g = nx.karate_club_graph()\n",
    "        g.pos = nx.spring_layout(g)\n",
    "        for i in g.nodes:\n",
    "            g.nodes[i]['state'] = 1 if random() < .5 else 0\n",
    "\n",
    "    def observe():\n",
    "        global g, time_to_consensus, consensus_reached\n",
    "        cla()\n",
    "        nx.draw(g, vmin = 0, vmax = 1,\n",
    "                node_color = [g.nodes[i]['state'] for i in g.nodes],\n",
    "                pos = g.pos)\n",
    "\n",
    "    def update():\n",
    "        global g, time_to_consensus, consensus_reached\n",
    "        \n",
    "        speaker = rd.choice(list(g.nodes))\n",
    "        listener = rd.choice(list(g.neighbors(speaker)))\n",
    "        g.nodes[listener]['state'] = g.nodes[speaker]['state']\n",
    "        \n",
    "    def consensus_check():\n",
    "        global g, time_to_consensus, consensus_reached\n",
    "        \n",
    "        zero_state = 0\n",
    "        for i in g.nodes:\n",
    "            if g.nodes[i]['state'] == 0:\n",
    "                zero_state += 1\n",
    "        if zero_state == 0 or zero_state == len(g.nodes):\n",
    "            consensus_reached = True\n",
    "        else:\n",
    "            time_to_consensus += 1\n",
    "\n",
    "    initialize()\n",
    "    while consensus_reached == False:\n",
    "        update()\n",
    "        consensus_check()\n",
    "    # observe()\n",
    "    \n",
    "    return time_to_consensus"
   ]
  },
  {
   "cell_type": "code",
   "execution_count": 4,
   "metadata": {},
   "outputs": [],
   "source": [
    "# Model 3: edge-based\n",
    "\n",
    "def edge_based_model():\n",
    "    \n",
    "    def initialize():\n",
    "        global g, time_to_consensus, consensus_reached\n",
    "        time_to_consensus = 0\n",
    "        consensus_reached = False\n",
    "        g = nx.karate_club_graph()\n",
    "        g.pos = nx.spring_layout(g)\n",
    "        for i in g.nodes:\n",
    "            g.nodes[i]['state'] = 1 if random() < .5 else 0\n",
    "\n",
    "    def observe():\n",
    "        global g, time_to_consensus, consensus_reached\n",
    "        cla()\n",
    "        nx.draw(g, vmin = 0, vmax = 1,\n",
    "                node_color = [g.nodes[i]['state'] for i in g.nodes],\n",
    "                pos = g.pos)\n",
    "\n",
    "    def update():\n",
    "        global g, time_to_consensus, consensus_reached\n",
    "        \n",
    "        edge = list(rd.choice(list(g.edges)))\n",
    "        listener = rd.choice(edge)\n",
    "        edge.remove(listener)\n",
    "        speaker = rd.choice(edge)\n",
    "        g.nodes[listener]['state'] = g.nodes[speaker]['state']\n",
    "        \n",
    "    def consensus_check():\n",
    "        global g, time_to_consensus, consensus_reached\n",
    "        \n",
    "        zero_state = 0\n",
    "        for i in g.nodes:\n",
    "            if g.nodes[i]['state'] == 0:\n",
    "                zero_state += 1\n",
    "        if zero_state == 0 or zero_state == len(g.nodes):\n",
    "            consensus_reached = True\n",
    "        else:\n",
    "            time_to_consensus += 1\n",
    "\n",
    "    initialize()\n",
    "    while consensus_reached == False:\n",
    "        update()\n",
    "        consensus_check()\n",
    "    # observe()\n",
    "    \n",
    "    return time_to_consensus"
   ]
  },
  {
   "cell_type": "code",
   "execution_count": 7,
   "metadata": {},
   "outputs": [
    {
     "data": {
      "image/png": "[encoded data removed]",
      "text/plain": [
       "<Figure size 432x288 with 1 Axes>"
      ]
     },
     "metadata": {
      "needs_background": "light"
     },
     "output_type": "display_data"
    },
    {
     "name": "stdout",
     "output_type": "stream",
     "text": [
      "The average time to reach consensus is 613.357 steps, with the 95% confidence interval being [102.97500000000001, 1803.0]\n"
     ]
    },
    {
     "data": {
      "image/png": "[encoded data removed]",
      "text/plain": [
       "<Figure size 432x288 with 1 Axes>"
      ]
     },
     "metadata": {
      "needs_background": "light"
     },
     "output_type": "display_data"
    },
    {
     "name": "stdout",
     "output_type": "stream",
     "text": [
      "The average time to reach consensus is 3745.455 steps, with the 95% confidence interval being [467.775, 12407.549999999996]\n"
     ]
    },
    {
     "data": {
      "image/png": "[encoded data removed]",
      "text/plain": [
       "<Figure size 432x288 with 1 Axes>"
      ]
     },
     "metadata": {
      "needs_background": "light"
     },
     "output_type": "display_data"
    },
    {
     "name": "stdout",
     "output_type": "stream",
     "text": [
      "The average time to reach consensus is 1035.756 steps, with the 95% confidence interval being [186.95000000000002, 3250.3249999999994]\n"
     ]
    }
   ],
   "source": [
    "results_original = []\n",
    "results_reversed = []\n",
    "results_edge_based = []\n",
    "\n",
    "for i in range(1000):\n",
    "    results_original.append(original_model())\n",
    "    results_reversed.append(reversed_model())\n",
    "    results_edge_based.append(edge_based_model())\n",
    "\n",
    "plt.hist(results_original, bins = 20, density = True, color = 'red')\n",
    "plt.title('Steps to consensus for the original model')\n",
    "plt.show()\n",
    "print(f'The average time to reach consensus is {np.mean(results_original)} steps, with the 95% confidence interval being [{np.percentile(results_original, 2.5)}, {np.percentile(results_original, 97.5)}]')\n",
    "\n",
    "plt.hist(results_reversed, bins = 20, density = True, color = 'purple')\n",
    "plt.title('Steps to consensus for the reversed model')\n",
    "plt.show()\n",
    "print(f'The average time to reach consensus is {np.mean(results_reversed)} steps, with the 95% confidence interval being [{np.percentile(results_reversed, 2.5)}, {np.percentile(results_reversed, 97.5)}]')\n",
    "\n",
    "plt.hist(results_edge_based, bins = 20, density = True, color = 'green')\n",
    "plt.title('Steps to consensus for the edge-based model')\n",
    "plt.show()\n",
    "print(f'The average time to reach consensus is {np.mean(results_edge_based)} steps, with the 95% confidence interval being [{np.percentile(results_edge_based, 2.5)}, {np.percentile(results_edge_based, 97.5)}]')"
   ]
  },
  {
   "cell_type": "markdown",
   "metadata": {},
   "source": [
    "While the shape of the data distributions for all models is very similar, the mean time to reach consensus differs significantly.\n",
    "\n",
    "Regarding the average time: the time for the third model (1035.8 steps on average) is almost twice as large as the average time for the first model (613.4 steps); and time for the second model (3745.455 steps) is about three times larger  than the time for the third model and about six times larger than the first model.\n",
    "\n",
    "Thus, if all three models are good for modelling given scenario, we would prefer the original model due to the fact that the time it takes to reach consensus there on average is the shortest."
   ]
  }
 ],
 "metadata": {
  "kernelspec": {
   "display_name": "Python 3",
   "language": "python",
   "name": "python3"
  },
  "language_info": {
   "codemirror_mode": {
    "name": "ipython",
    "version": 3
   },
   "file_extension": ".py",
   "mimetype": "text/x-python",
   "name": "python",
   "nbconvert_exporter": "python",
   "pygments_lexer": "ipython3",
   "version": "3.8.5"
  }
 },
 "nbformat": 4,
 "nbformat_minor": 4
}
