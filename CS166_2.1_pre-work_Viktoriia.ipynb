{
 "cells": [
  {
   "cell_type": "code",
   "execution_count": 48,
   "metadata": {},
   "outputs": [],
   "source": [
    "# Build a schedule-based simulation of an M/D/1 queue\n",
    "\n",
    "# Classes needed:\n",
    "\n",
    "# Queue - This class tracks the number of people in the queue and the number of people being served.\n",
    "# It also schedules when a customer starts being served and stops being served (leaves the grocery store).\n",
    "\n",
    "# GroceryStore - This class contains the queues (in this case only one but you’ll need to make more than one for your project).\n",
    "# It also schedules the arrival of customers at the queue(s).\n",
    "\n",
    "class Queue:\n",
    "    \n",
    "    def __init__(self, service_rate):\n",
    "        self.people = 0\n",
    "        self.service_rate = service_rate\n",
    "        \n",
    "    def customerarrives(self):\n",
    "        self.people = self.people + 1\n",
    "    \n",
    "    def customerbeingserved(self):\n",
    "        self.people = self.people - 1\n",
    "\n",
    "class GroceryStore:\n",
    "    \n",
    "    def __init__(self, queue, arrival_rate):\n",
    "        self.queue = queue\n",
    "        self.arrival_rate = arrival_rate\n",
    "    \n",
    "    def arrival_time(self):\n",
    "        arrival_distribution = sts.expon(scale=1/self.arrival_rate)\n",
    "        next_arrival_time = arrival_distribution.rvs()\n",
    "        return next_arrival_time"
   ]
  },
  {
   "cell_type": "code",
   "execution_count": 53,
   "metadata": {},
   "outputs": [
    {
     "data": {
      "image/png": "[encoded data removed]",
      "text/plain": [
       "<Figure size 432x288 with 1 Axes>"
      ]
     },
     "metadata": {
      "needs_background": "light"
     },
     "output_type": "display_data"
    }
   ],
   "source": [
    "def run_simulation(arrival_rate, service_rate, run_until):\n",
    "    \n",
    "    queue = Queue(service_rate = service_rate)\n",
    "    store = GroceryStore(queue = queue, arrival_rate = arrival_rate)\n",
    "\n",
    "    next_arrival_time = store.arrival_time()\n",
    "    \n",
    "    next_departure_time = np.inf  \n",
    "\n",
    "    plot_data = {\n",
    "        'time': [],\n",
    "        'people_in_queue': []}\n",
    "    \n",
    "    while min(next_arrival_time, next_departure_time) < run_until:\n",
    "        \n",
    "        if next_arrival_time < next_departure_time:\n",
    "            plot_data['time'].append(next_arrival_time)\n",
    "            store.queue.customerarrives()\n",
    "            if store.queue.people == 1:\n",
    "                assert next_departure_time == np.inf\n",
    "                next_departure_time = (\n",
    "                    next_arrival_time + store.queue.service_rate)\n",
    "            next_arrival_time += store.arrival_time()\n",
    "            \n",
    "        else:\n",
    "            plot_data['time'].append(next_departure_time)\n",
    "            store.queue.customerbeingserved()\n",
    "            if store.queue.people == 0:\n",
    "                next_departure_time = np.inf\n",
    "            else:\n",
    "                next_departure_time += store.queue.service_rate\n",
    "        assert store.queue.people >= 0\n",
    "        plot_data['people_in_queue'].append(store.queue.people)\n",
    "        \n",
    "    plt.figure()\n",
    "    plt.title('Simulated queue length over time')\n",
    "    plt.plot(plot_data['time'], plot_data['people_in_queue'], 'k.')\n",
    "    plt.xlabel('time [s]')\n",
    "    plt.ylabel('queue length')\n",
    "    plt.show()\n",
    "    \n",
    "arrival_rate = 1\n",
    "service_rate = 5\n",
    "run_until = 500\n",
    "\n",
    "run_simulation(arrival_rate, service_rate, run_until)"
   ]
  },
  {
   "cell_type": "markdown",
   "metadata": {},
   "source": [
    "#### Firstly, I adapted the code suggested and cannot see how to better adjust it so it would not be without \"schedule\". It makes sense that I can manipulate the attributes of the instances, but I am unsure whether it makes sense to make next arrival/departure time an attribute, given how many changes are happening between them. Will appreciate clarification on that.\n",
    "#### Additionally - my code bugged just a minute before the class, as I was double-checking the variable names and did not save the piece of code in advance, so I apologize for not having time to resolve this.\n",
    "\n",
    "#### For #CodeReadibility - I ensured that my code was simple, with variables readable, names assigned being straitghforward, and without unneccessary lengthy explanations.\n",
    "#### For #PyhtonImplementation - I carefulle wrote my part of the code, adapting the part provided as the task requested, and ensured that the algorithm was working well, besides a minor bag with a queue length increase."
   ]
  },
  {
   "cell_type": "code",
   "execution_count": null,
   "metadata": {},
   "outputs": [],
   "source": []
  }
 ],
 "metadata": {
  "kernelspec": {
   "display_name": "Python 3",
   "language": "python",
   "name": "python3"
  },
  "language_info": {
   "codemirror_mode": {
    "name": "ipython",
    "version": 3
   },
   "file_extension": ".py",
   "mimetype": "text/x-python",
   "name": "python",
   "nbconvert_exporter": "python",
   "pygments_lexer": "ipython3",
   "version": "3.8.5"
  }
 },
 "nbformat": 4,
 "nbformat_minor": 4
}
